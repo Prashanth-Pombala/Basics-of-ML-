{
 "cells": [
  {
   "cell_type": "code",
   "execution_count": 79,
   "id": "2c57c6f6",
   "metadata": {},
   "outputs": [],
   "source": [
    "import numpy as np\n",
    "import pandas as pd\n",
    "import matplotlib.pyplot as plt"
   ]
  },
  {
   "cell_type": "markdown",
   "id": "b6f75cfa",
   "metadata": {},
   "source": [
    "### 1. Phoneme Dataset\n",
    "Load the phoneme dataset using Pandas"
   ]
  },
  {
   "cell_type": "code",
   "execution_count": 80,
   "id": "5f0330d2",
   "metadata": {},
   "outputs": [],
   "source": [
    "data = pd.read_csv('data/phoneme.csv')\n",
    "data[\"Split_param\"] = data['speaker'].str.split(\".\", n=1, expand=False).str[0]\n",
    "#print(data)\n",
    "\n",
    "# TODO \n",
    "# Split the dataset into a train and test dataset according to column \"speaker\".\n",
    "# Be sure to exclude row number, \"speaker\" and response columns from your features.\n",
    "\n",
    "train_data = data[data['Split_param'] == 'train']\n",
    "train_response=train_data['g'].to_list()\n",
    "\n",
    "drop_cols=['Split_param','speaker','g','row.names']\n",
    "train_data=train_data.drop(drop_cols, axis=1)\n",
    "\n",
    "test_data = data[data['Split_param'] == 'test']\n",
    "test_response=test_data['g'].to_list()\n",
    "test_data=test_data.drop(drop_cols, axis=1)\n"
   ]
  },
  {
   "cell_type": "markdown",
   "id": "821e9c60",
   "metadata": {},
   "source": [
    "### 2. LDA modelling\n",
    "Fit an LDA model. Compute and report the train and test error."
   ]
  },
  {
   "cell_type": "code",
   "execution_count": 81,
   "id": "130ad536",
   "metadata": {},
   "outputs": [
    {
     "name": "stdout",
     "output_type": "stream",
     "text": [
      "Train Error: 0.05598802395209579\n",
      "Test Error: 0.08041060735671512\n"
     ]
    }
   ],
   "source": [
    "# TODO\n",
    "from sklearn.discriminant_analysis import LinearDiscriminantAnalysis, QuadraticDiscriminantAnalysis\n",
    "from sklearn.metrics import confusion_matrix, classification_report, precision_score\n",
    "\n",
    "lda = LinearDiscriminantAnalysis()\n",
    "model = lda.fit(train_data, train_response)\n",
    "\n",
    "pred_train=model.predict(train_data).tolist()\n",
    "\n",
    "\n",
    "i=0\n",
    "for ele1,ele2 in zip(pred_train,train_response):\n",
    "    if(ele1==ele2):\n",
    "        i=i+1\n",
    "train_error=1-(i/(len(train_response)))\n",
    "print(\"Train Error:\",train_error)\n",
    "    \n",
    "\n",
    "pred_test=model.predict(test_data).tolist()\n",
    "i=0\n",
    "for ele1,ele2 in zip(pred_test,test_response):\n",
    "    if(ele1==ele2):\n",
    "        i=i+1\n",
    "test_error=1-(i/(len(test_response)))\n",
    "\n",
    "print(\"Test Error:\",test_error)\n",
    "    \n",
    "\n"
   ]
  },
  {
   "cell_type": "code",
   "execution_count": 82,
   "id": "5c7263e8",
   "metadata": {},
   "outputs": [],
   "source": [
    "#defining a function for finding confusion matrix and obtain the error rate from the confusion matrix\n",
    "def error_from_confusion_matrix(train, response):\n",
    "    tot_all=0\n",
    "    tot_correct=0\n",
    "    con=confusion_matrix(train,response)\n",
    "\n",
    "\n",
    "    for i in range (len(con)):\n",
    "    \n",
    "        y1=np.array(con[i])\n",
    "        print(y1)\n",
    "        for j in range(len(y1)):\n",
    "            tot_all= tot_all+y1[j]\n",
    "        tot_correct= tot_correct+y1[i]\n",
    "\n",
    "    error_rate= (tot_all-tot_correct)/tot_all\n",
    "    print(\"the error rate is\",error_rate)\n",
    "    \n",
    "    "
   ]
  },
  {
   "cell_type": "code",
   "execution_count": 83,
   "id": "308efe6d",
   "metadata": {},
   "outputs": [
    {
     "name": "stdout",
     "output_type": "stream",
     "text": [
      "For training data the confusion matrix is\n",
      "[424  82   0   0   0]\n",
      "[ 95 677   0   0   0]\n",
      "[  0   0 553   1   0]\n",
      "[  0   0   8 851   0]\n",
      "[  0   0   1   0 648]\n",
      "the error rate is 0.05598802395209581\n",
      "For test data the confusion matrix is\n",
      "[129  39   0   0   0]\n",
      "[ 47 223   0   0   0]\n",
      "[  0   0 190   2   0]\n",
      "[  0   1   5 309   0]\n",
      "[  0   0   0   0 224]\n",
      "the error rate is 0.08041060735671514\n"
     ]
    }
   ],
   "source": [
    "#Verifying the Train Error and Test Error obtained Using the Confusion Matrix\n",
    "print(\"For training data the confusion matrix is\")\n",
    "error_from_confusion_matrix(pred_train,train_response)\n",
    "print(\"For test data the confusion matrix is\")\n",
    "error_from_confusion_matrix(pred_test,test_response)\n"
   ]
  },
  {
   "cell_type": "markdown",
   "id": "fb0da810",
   "metadata": {},
   "source": [
    "### 3. LDA canonical coordinates\n",
    " Plot the projection of the training data onto the first two canonical coordinates of the LDA and report your findings. Investigate the data projected on further dimensions using the \\texttt{dimen} parameter."
   ]
  },
  {
   "cell_type": "code",
   "execution_count": 84,
   "id": "b93fba7f",
   "metadata": {},
   "outputs": [],
   "source": [
    "from sklearn.discriminant_analysis import LinearDiscriminantAnalysis\n",
    "import matplotlib.pyplot as plt\n",
    "\n",
    "lda_dimensionality_reduction = LinearDiscriminantAnalysis(n_components = 2)\n",
    "training_of_x = lda_model.fit_transform(train_data, train_response)\n",
    "testing_of_x= lda_model.transform(test_data)\n",
    "\n"
   ]
  },
  {
   "cell_type": "markdown",
   "id": "b460a902",
   "metadata": {},
   "source": [
    "### 4. LDA on \"aa\", \"ao\"\n",
    "Select the two phonemes \"aa\" and \"ao\". Fit an LDA model on this data set and repeat the steps\n",
    "    done in (2)."
   ]
  },
  {
   "cell_type": "code",
   "execution_count": 85,
   "id": "d005e882",
   "metadata": {},
   "outputs": [
    {
     "name": "stdout",
     "output_type": "stream",
     "text": [
      "Train Error for aa/ao: 0.10641627543035992\n",
      "Test Error for aa/ao: 0.214123006833713\n"
     ]
    }
   ],
   "source": [
    "# TODO\n",
    "from sklearn.discriminant_analysis import LinearDiscriminantAnalysis, QuadraticDiscriminantAnalysis\n",
    "from sklearn.metrics import confusion_matrix, classification_report, precision_score\n",
    "\n",
    "# TODO\n",
    "#Train Set\n",
    "train_data_aa_ao =data[data['Split_param'] == 'train']\n",
    "\n",
    "\n",
    "\n",
    "train_data_aa= train_data_aa_ao[train_data_aa_ao['g'] == 'ao']\n",
    "train_data_ao = train_data_aa_ao[train_data_aa_ao['g'] == 'aa']\n",
    "train_data_aa_ao = train_data_aa.append(train_data_ao)\n",
    "\n",
    "\n",
    "\n",
    "train_response_aa_ao=train_data_aa_ao['g'].to_list()\n",
    "train_data_aa_ao=train_data_aa_ao.drop(drop_cols, axis=1)\n",
    "\n",
    "#Test Set\n",
    "test_data_aa_ao =data[data['Split_param'] == 'test']\n",
    "\n",
    "test_data_aa= test_data_aa_ao[test_data_aa_ao['g'] == 'ao']\n",
    "test_data_ao = test_data_aa_ao[test_data_aa_ao['g'] == 'aa']\n",
    "test_data_aa_ao = test_data_aa.append(test_data_ao)\n",
    "\n",
    "\n",
    "\n",
    "\n",
    "test_response_aa_ao=test_data_aa_ao['g'].to_list()\n",
    "test_data_aa_ao=test_data_aa_ao.drop(drop_cols, axis=1)\n",
    "\n",
    "\n",
    "#Fitting the model\n",
    "lda_aa_ao = LinearDiscriminantAnalysis()\n",
    "model_aa_ao = lda_aa_ao.fit(train_data_aa_ao, train_response_aa_ao)\n",
    "\n",
    "pred_train_aa_ao=model_aa_ao.predict(train_data_aa_ao).tolist()\n",
    "\n",
    "\n",
    "i=0\n",
    "for ele1,ele2 in zip(pred_train_aa_ao,train_response_aa_ao):\n",
    "    if(ele1==ele2):\n",
    "        i=i+1\n",
    "\n",
    "train_error_aa_ao=1-(i/(len(train_response_aa_ao)))\n",
    "print(\"Train Error for aa/ao:\",train_error_aa_ao)\n",
    "    \n",
    "\n",
    "pred_test_aa_ao=model_aa_ao.predict(test_data_aa_ao).tolist()\n",
    "i=0\n",
    "for ele1,ele2 in zip(pred_test_aa_ao,test_response_aa_ao):\n",
    "    if(ele1==ele2):\n",
    "        i=i+1\n",
    "test_error_aa_ao=1-(i/(len(test_response_aa_ao)))\n",
    "print(\"Test Error for aa/ao:\",test_error_aa_ao)\n"
   ]
  },
  {
   "cell_type": "markdown",
   "id": "4aa8ff8d",
   "metadata": {},
   "source": [
    "## 5. QDA\n",
    "Repeat steps (b) and (d) using QDA and report your findings. Would you prefer LDA or QDA in this example? Why?"
   ]
  },
  {
   "cell_type": "code",
   "execution_count": 86,
   "id": "40f3d95a",
   "metadata": {},
   "outputs": [
    {
     "name": "stdout",
     "output_type": "stream",
     "text": [
      "Train Error: 0.0\n",
      "Test Error: 0.1582549187339607\n"
     ]
    }
   ],
   "source": [
    "# TODO QDA of b\n",
    "#Fit an qda model. Compute and report the train and test error.\n",
    "from sklearn.discriminant_analysis import LinearDiscriminantAnalysis, QuadraticDiscriminantAnalysis\n",
    "from sklearn.metrics import confusion_matrix, classification_report, precision_score\n",
    "\n",
    "qda = QuadraticDiscriminantAnalysis()\n",
    "model = qda.fit(train_data,train_response)\n",
    "\n",
    "pred_train=model.predict(train_data).tolist()\n",
    "\n",
    "\n",
    "i=0\n",
    "for ele1,ele2 in zip(pred_train,train_response):\n",
    "    if(ele1==ele2):\n",
    "        i=i+1\n",
    "train_error=1-(i/(len(train_response)))\n",
    "print(\"Train Error:\",train_error)\n",
    "    \n",
    "\n",
    "pred_test=model.predict(test_data).tolist()\n",
    "i=0\n",
    "for ele1,ele2 in zip(pred_test,test_response):\n",
    "    if(ele1==ele2):\n",
    "        i=i+1\n",
    "test_error=1-(i/(len(test_response)))\n",
    "\n",
    "print(\"Test Error:\",test_error)\n",
    "    \n"
   ]
  },
  {
   "cell_type": "code",
   "execution_count": 87,
   "id": "f9ff3d47",
   "metadata": {},
   "outputs": [
    {
     "name": "stdout",
     "output_type": "stream",
     "text": [
      "Train Error for aa/ao: 0.0\n",
      "Test Error for aa/ao: 0.33940774487471526\n"
     ]
    }
   ],
   "source": [
    "# TODO\n",
    "#Select the two phonemes \"aa\" and \"ao\". Fit an LDA model on this data set and repeat the steps done in (2).\n",
    "from sklearn.discriminant_analysis import LinearDiscriminantAnalysis, QuadraticDiscriminantAnalysis\n",
    "from sklearn.metrics import confusion_matrix, classification_report, precision_score\n",
    "\n",
    "# TODO\n",
    "#Train Set\n",
    "train_data_aa_ao_qda =data[data['Split_param'] == 'train']\n",
    "\n",
    "\n",
    "\n",
    "train_data_aa_qda= train_data_aa_ao_qda[train_data_aa_ao_qda['g'] == 'ao']\n",
    "train_data_ao_qda = train_data_aa_ao_qda[train_data_aa_ao_qda['g'] == 'aa']\n",
    "train_data_aa_ao_qda= train_data_aa_qda.append(train_data_ao_qda)\n",
    "\n",
    "\n",
    "\n",
    "train_response_aa_ao_qda=train_data_aa_ao_qda['g'].to_list()\n",
    "train_data_aa_ao_qda=train_data_aa_ao_qda.drop(drop_cols, axis=1)\n",
    "\n",
    "#Test Set\n",
    "test_data_aa_ao_qda =data[data['Split_param'] == 'test']\n",
    "\n",
    "test_data_aa_qda= test_data_aa_ao_qda[test_data_aa_ao_qda['g'] == 'ao']\n",
    "test_data_ao_qda= test_data_aa_ao_qda[test_data_aa_ao_qda['g'] == 'aa']\n",
    "test_data_aa_ao_qda = test_data_aa_qda.append(test_data_ao_qda)\n",
    "\n",
    "\n",
    "\n",
    "\n",
    "test_response_aa_ao_qda=test_data_aa_ao_qda['g'].to_list()\n",
    "test_data_aa_ao_qda=test_data_aa_ao_qda.drop(drop_cols, axis=1)\n",
    "\n",
    "\n",
    "#Fitting the model\n",
    "qda_aa_ao = QuadraticDiscriminantAnalysis()\n",
    "model_aa_ao = qda_aa_ao.fit(train_data_aa_ao_qda, train_response_aa_ao_qda)\n",
    "\n",
    "pred_train_aa_ao_qda=model_aa_ao.predict(train_data_aa_ao_qda).tolist()\n",
    "\n",
    "\n",
    "i=0\n",
    "for ele1,ele2 in zip(pred_train_aa_ao_qda,train_response_aa_ao_qda):\n",
    "    if(ele1==ele2):\n",
    "        i=i+1\n",
    "\n",
    "train_error_aa_ao_qda=1-(i/(len(train_response_aa_ao_qda)))\n",
    "print(\"Train Error for aa/ao:\",train_error_aa_ao_qda)\n",
    "    \n",
    "\n",
    "pred_test_aa_ao_qda=model_aa_ao.predict(test_data_aa_ao_qda).tolist()\n",
    "i=0\n",
    "for ele1,ele2 in zip(pred_test_aa_ao_qda,test_response_aa_ao_qda):\n",
    "    if(ele1==ele2):\n",
    "        i=i+1\n",
    "test_error_aa_ao_qda=1-(i/(len(test_response_aa_ao_qda)))\n",
    "print(\"Test Error for aa/ao:\",test_error_aa_ao_qda)\n",
    "\n"
   ]
  },
  {
   "cell_type": "markdown",
   "id": "571260e2",
   "metadata": {},
   "source": [
    "## 6. Confusion Matrices\n",
    "Generate confusion matrices for the LDA and QDA model for \"aa\" and \"ao\". Which differences can you observe between the models?"
   ]
  },
  {
   "cell_type": "code",
   "execution_count": 88,
   "id": "639e69a8",
   "metadata": {},
   "outputs": [
    {
     "name": "stdout",
     "output_type": "stream",
     "text": [
      "confusion matrices for the LDA for aa and ao\n",
      "[[439  56]\n",
      " [ 80 703]]\n",
      "confusion matrices for the QDA for aa and ao\n",
      "[[519   0]\n",
      " [  0 759]]\n"
     ]
    }
   ],
   "source": [
    "# TODO \n",
    "print(\"confusion matrices for the LDA for aa and ao\")\n",
    "print(confusion_matrix(pred_train_aa_ao, train_response_aa_ao))\n",
    "print(\"confusion matrices for the QDA for aa and ao\")\n",
    "print(confusion_matrix(pred_train_aa_ao_qda, train_response_aa_ao_qda))\n",
    "\n"
   ]
  }
 ],
 "metadata": {
  "kernelspec": {
   "display_name": "Python 3",
   "language": "python",
   "name": "python3"
  },
  "language_info": {
   "codemirror_mode": {
    "name": "ipython",
    "version": 3
   },
   "file_extension": ".py",
   "mimetype": "text/x-python",
   "name": "python",
   "nbconvert_exporter": "python",
   "pygments_lexer": "ipython3",
   "version": "3.8.8"
  }
 },
 "nbformat": 4,
 "nbformat_minor": 5
}
