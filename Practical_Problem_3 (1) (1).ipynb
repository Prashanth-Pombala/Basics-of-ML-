{
 "cells": [
  {
   "cell_type": "code",
   "execution_count": 1,
   "metadata": {},
   "outputs": [],
   "source": [
    "import numpy as np\n",
    "import pandas as pd\n",
    "import matplotlib.pyplot as plt "
   ]
  },
  {
   "cell_type": "markdown",
   "metadata": {},
   "source": [
    "### 1. Dataset\n",
    "Load the prostate dataset. "
   ]
  },
  {
   "cell_type": "code",
   "execution_count": 2,
   "metadata": {
    "scrolled": true
   },
   "outputs": [
    {
     "name": "stdout",
     "output_type": "stream",
     "text": [
      "<class 'pandas.core.frame.DataFrame'>\n"
     ]
    }
   ],
   "source": [
    "#TODO \n",
    "train = pd.read_csv('data/prostate_train.csv') \n",
    "test = pd.read_csv('data/prostate_test.csv')\n",
    "print(type(train))"
   ]
  },
  {
   "cell_type": "markdown",
   "metadata": {},
   "source": [
    "We will use the target $y=$lpsa throughout this exercise, and all other features as predictors $X$, so split the train and test sets by $X,y$."
   ]
  },
  {
   "cell_type": "code",
   "execution_count": 3,
   "metadata": {},
   "outputs": [],
   "source": [
    "#TODO\n",
    "Xtrain, ytrain = train.iloc[:,:8], train.iloc[:,8]\n",
    "Xtest, ytest = test.iloc[:,:8], test.iloc[:,8]\n"
   ]
  },
  {
   "cell_type": "markdown",
   "metadata": {},
   "source": [
    "### 2. Ridge Regression\n",
    "Perform Ridge regression with target lpsa and all other features as predictors. Do so for different regularization parameters $\\lambda$.\n",
    "Plot the resulting coefficients depending on $\\lambda$, as in ISLR, p.238, Fig. 6.4."
   ]
  },
  {
   "cell_type": "code",
   "execution_count": 13,
   "metadata": {},
   "outputs": [
    {
     "data": {
      "text/plain": [
       "<function matplotlib.pyplot.show(close=None, block=None)>"
      ]
     },
     "execution_count": 13,
     "metadata": {},
     "output_type": "execute_result"
    },
    {
     "data": {
      "image/png": "[encoded data removed]",
      "text/plain": [
       "<Figure size 432x288 with 1 Axes>"
      ]
     },
     "metadata": {
      "needs_background": "light"
     },
     "output_type": "display_data"
    }
   ],
   "source": [
    "from sklearn.linear_model import Ridge \n",
    "from sklearn.metrics import mean_squared_error\n",
    "    \n",
    "# This is an example of possible values for the lambda that you can consider.\n",
    "lambdas = np.logspace(-5, 5, 200)\n",
    "variable1=[]\n",
    "variable2=[]\n",
    "variable3=[]\n",
    "variable4=[]\n",
    "variable5=[]\n",
    "variable6=[]\n",
    "variable7=[]\n",
    "variable8=[]\n",
    "alphaarr=[]\n",
    "\n",
    "\n",
    "\n",
    "for alpha in lambdas:\n",
    "    ridge = Ridge(alpha)\n",
    "\n",
    "    ridge.fit(Xtrain, ytrain)\n",
    "\n",
    "    #train and test scorefor ridge regression\n",
    "    train_score = ridge.score(Xtrain, ytrain)\n",
    "    test_score = ridge.score(Xtest, ytest)\n",
    "    #print(\"\\nRidge Model............................................\\n\")\n",
    "    #print(\"The train score for ridge model is {}\".format(train_score))\n",
    "    #print(\"The test score for ridge model is {}\".format(test_score))\n",
    "    coeff=ridge.coef_\n",
    "\n",
    "    \n",
    "    \n",
    "    \n",
    "    \n",
    "    \n",
    "    variable1.append(coeff[0])\n",
    "    variable2.append(coeff[1])\n",
    "    variable3.append(coeff[2])\n",
    "    variable4.append(coeff[3])\n",
    "    variable5.append(coeff[4])\n",
    "    variable6.append(coeff[5])\n",
    "    variable7.append(coeff[6])\n",
    "    variable8.append(coeff[7])\n",
    "    \n",
    "    alphaarr.append(alpha)\n",
    "    \n",
    "\n",
    "        \n",
    "\n",
    "    #plt.plot(Xtrain.columns.to_list(),ridge.coef_,alpha)\n",
    "    #plt.show()\n",
    "plt.plot(alphaarr,variable1,color='r', label='lcavol')\n",
    "plt.plot(alphaarr,variable2,color='g', label='lweight')\n",
    "plt.plot(alphaarr,variable3,color='b', label='age')\n",
    "plt.plot(alphaarr,variable4,color='y', label='lbph')\n",
    "plt.plot(alphaarr,variable5,color='c', label='svi')\n",
    "plt.plot(alphaarr,variable6,color='k', label='lcp')\n",
    "plt.plot(alphaarr,variable7,color='m', label='gleason')\n",
    "plt.plot(alphaarr,variable8,color='0.75', label='pgg45')\n",
    "\n",
    "\n",
    "plt.xlim([0,1000])\n",
    "\n",
    "plt.xlabel(\"lambda\")\n",
    "plt.ylabel(\"coefficient\")\n",
    "\n",
    "  \n",
    "\n",
    "plt.legend()\n",
    "  \n",
    "\n",
    "plt.show"
   ]
  },
  {
   "cell_type": "markdown",
   "metadata": {},
   "source": [
    "We can observe that as the lambda value becomes large after a certain point, the coefficient estimate values become flatter and start to almost converge to zero for very large values of lambda. Hence, the model is underfitting and converging to a null model."
   ]
  },
  {
   "cell_type": "markdown",
   "metadata": {},
   "source": [
    "### 3. Cross Validation & Ridge\n",
    "Perform 10-fold cross-validation on the training set to determine the optimal value for $\\lambda$ for the ridge regression model."
   ]
  },
  {
   "cell_type": "code",
   "execution_count": 5,
   "metadata": {},
   "outputs": [
    {
     "name": "stdout",
     "output_type": "stream",
     "text": [
      "The optimal value of lambda: 3.3700643292719317\n"
     ]
    }
   ],
   "source": [
    "from sklearn.model_selection import KFold\n",
    "from sklearn.model_selection import GridSearchCV\n",
    "from sklearn.model_selection import RepeatedKFold\n",
    "\n",
    "\n",
    "# K-fold cross validation\n",
    "folds = 10\n",
    "\n",
    "#TODO\n",
    "\n",
    "# define model\n",
    "ridge_model = Ridge()\n",
    "# define model evaluation method\n",
    "cross_val = KFold(n_splits=folds)\n",
    "# define grid\n",
    "grid = dict()\n",
    "grid['alpha'] = lambdas\n",
    "\n",
    "\n",
    "# define search\n",
    "search = GridSearchCV(ridge_model, grid, scoring='neg_mean_absolute_error', cv=cross_val, n_jobs=-1)\n",
    "# perform the search\n",
    "output = search.fit(Xtrain, ytrain)\n",
    "# summarize\n",
    "#print('MAE: %.3f' % results.best_score_)\n",
    "print('The optimal value of lambda: %s' % output.best_params_['alpha'])\n",
    "\n",
    "best_lambda=output.best_params_['alpha']"
   ]
  },
  {
   "cell_type": "markdown",
   "metadata": {},
   "source": [
    "Report train and test error measured in MSE for this $\\lambda$."
   ]
  },
  {
   "cell_type": "code",
   "execution_count": 6,
   "metadata": {},
   "outputs": [
    {
     "name": "stdout",
     "output_type": "stream",
     "text": [
      "MSE train: 0.4783320428402304\n",
      "MSE test: 0.448887342995658\n"
     ]
    }
   ],
   "source": [
    "ridge_error = Ridge(alpha=best_lambda)\n",
    "ridge_error.fit(Xtrain, ytrain)\n",
    "\n",
    "y_train_pred = ridge_error.predict(Xtrain)\n",
    "y_test_pred = ridge_error.predict(Xtest)\n",
    "\n",
    "coeff_train=mean_squared_error(ytrain, y_train_pred)\n",
    "coeff_test=mean_squared_error(ytest, y_test_pred)\n",
    "\n",
    "print('MSE train:',coeff_train)\n",
    "print('MSE test:',coeff_test)"
   ]
  },
  {
   "cell_type": "markdown",
   "metadata": {},
   "source": [
    "### 4. Lasso Regression\n",
    "Perform Lasso regression with target lpsa and all other features as predictors. Do so for different parameters $\\lambda$.\n",
    "\n",
    "Plot the resulting coefficients depending on $\\lambda$, as in ISLR, p.242, Fig. 6.6."
   ]
  },
  {
   "cell_type": "code",
   "execution_count": 10,
   "metadata": {},
   "outputs": [
    {
     "data": {
      "text/plain": [
       "<function matplotlib.pyplot.show(close=None, block=None)>"
      ]
     },
     "execution_count": 10,
     "metadata": {},
     "output_type": "execute_result"
    },
    {
     "data": {
      "image/png": "[encoded data removed]",
      "text/plain": [
       "<Figure size 432x288 with 1 Axes>"
      ]
     },
     "metadata": {
      "needs_background": "light"
     },
     "output_type": "display_data"
    }
   ],
   "source": [
    "from sklearn.linear_model import Lasso \n",
    "from sklearn.metrics import mean_squared_error\n",
    "    \n",
    "# This is an example of possible values for the lambda that you can consider.\n",
    "lambdas = np.logspace(-5, 5, 200)\n",
    "variable1=[]\n",
    "variable2=[]\n",
    "variable3=[]\n",
    "variable4=[]\n",
    "variable5=[]\n",
    "variable6=[]\n",
    "variable7=[]\n",
    "variable8=[]\n",
    "alphaarr=[]\n",
    "\n",
    "for alpha in lambdas:\n",
    "    lasso = Lasso(alpha)\n",
    "\n",
    "    lasso.fit(Xtrain, ytrain)\n",
    "\n",
    "    #train and test scorefor ridge regression\n",
    "    train_score_lasso = lasso.score(Xtrain, ytrain)\n",
    "    test_score_lasso = lasso.score(Xtest, ytest)\n",
    "    #print(\"\\nLasso Model............................................\\n\")\n",
    "    #print(\"The train score for lasso model is {}\".format(train_score_lasso))\n",
    "    #print(\"The test score for lasso model is {}\".format(test_score_lasso))\n",
    "    \n",
    "    coeff=lasso.coef_\n",
    "    \n",
    "    \n",
    "\n",
    "    variable1.append(coeff[0])\n",
    "    variable2.append(coeff[1])\n",
    "    variable3.append(coeff[2])\n",
    "    variable4.append(coeff[3])\n",
    "    variable5.append(coeff[4])\n",
    "    variable6.append(coeff[5])\n",
    "    variable7.append(coeff[6])\n",
    "    variable8.append(coeff[7])\n",
    "    \n",
    "    alphaarr.append(alpha)\n",
    " \n",
    "    \n",
    "\n",
    "        \n",
    "\n",
    "#plt.plot(Xtrain.columns.to_list(),ridge.coef_,alpha)\n",
    "#plt.show()\n",
    "\n",
    "\n",
    "    \n",
    "plt.plot(alphaarr,variable1,color='r', label='lcavol')\n",
    "plt.plot(alphaarr,variable2,color='g', label='lweight')\n",
    "plt.plot(alphaarr,variable3,color='b', label='age')\n",
    "plt.plot(alphaarr,variable4,color='y', label='lbph')\n",
    "plt.plot(alphaarr,variable5,color='c', label='svi')\n",
    "plt.plot(alphaarr,variable6,color='k', label='lcp')\n",
    "plt.plot(alphaarr,variable7,color='m', label='gleason')\n",
    "plt.plot(alphaarr,variable8,color='0.75', label='pgg45')\n",
    "\n",
    "plt.xlim([0,2])\n",
    "\n",
    "plt.xlabel(\"lambda\")\n",
    "plt.ylabel(\"coefficient\")\n",
    "\n",
    "\n",
    "plt.legend()\n",
    "  \n",
    "\n",
    "plt.show\n",
    "   "
   ]
  },
  {
   "cell_type": "markdown",
   "metadata": {},
   "source": [
    "We observe that all the lambda values converge to 0 whereas in the 2nd plot, the values almost converge to 0.  As most of the lambda values converge to 0 at a comparatively early stage, we can say that the model is overfitting."
   ]
  },
  {
   "cell_type": "markdown",
   "metadata": {},
   "source": [
    "## 5. Cross Validation & Lasso\n",
    "Perform 10-fold cross-validation on the training set to determine the optimal value for $\\lambda$ in the Lasso.\n",
    "\t\tReport train and test error measured in MSE for this $\\lambda$. "
   ]
  },
  {
   "cell_type": "code",
   "execution_count": 11,
   "metadata": {},
   "outputs": [
    {
     "name": "stdout",
     "output_type": "stream",
     "text": [
      "The optimal lasso values of lambda: 0.01304901978014403\n"
     ]
    }
   ],
   "source": [
    "# K-fold cross validation\n",
    "folds = 10\n",
    "\n",
    "#TODO\n",
    "\n",
    "# define model\n",
    "lasso_model = Lasso()\n",
    "# define model evaluation method\n",
    "cross_val = KFold(n_splits=folds)\n",
    "# define grid\n",
    "grid = dict()\n",
    "grid['alpha'] = lambdas\n",
    "\n",
    "\n",
    "# define search\n",
    "lasso_search = GridSearchCV(lasso_model, grid, scoring='neg_mean_absolute_error', cv=cross_val, n_jobs=-1)\n",
    "# perform the search\n",
    "lasso_output = lasso_search.fit(Xtrain, ytrain)\n",
    "# summarize\n",
    "#print('MAE: %.3f' % results.best_score_)\n",
    "print('The optimal lasso values of lambda: %s' % lasso_output.best_params_['alpha'])\n",
    "\n",
    "best_lambda_lasso=lasso_output.best_params_['alpha']"
   ]
  },
  {
   "cell_type": "code",
   "execution_count": 12,
   "metadata": {},
   "outputs": [
    {
     "name": "stdout",
     "output_type": "stream",
     "text": [
      "MSE train: 0.4770035950533954\n",
      "MSE test: 0.45870543161200994\n"
     ]
    }
   ],
   "source": [
    "lasso_error = Lasso(alpha=best_lambda_lasso)\n",
    "lasso_error.fit(Xtrain, ytrain)\n",
    "\n",
    "y_train_pred_lasso = lasso_error.predict(Xtrain)\n",
    "y_test_pred_lasso = lasso_error.predict(Xtest)\n",
    "\n",
    "coeff_train_lasso=mean_squared_error(ytrain, y_train_pred_lasso)\n",
    "coeff_test_lasso=mean_squared_error(ytest, y_test_pred_lasso)\n",
    "\n",
    "print('MSE train:',coeff_train_lasso)\n",
    "print('MSE test:',coeff_test_lasso)"
   ]
  },
  {
   "cell_type": "markdown",
   "metadata": {},
   "source": [
    "How many and which features are used?\n",
    "\t\tCompare this to the coefficients determined for ridge regression in part 3 of this exercise."
   ]
  },
  {
   "cell_type": "markdown",
   "metadata": {},
   "source": []
  },
  {
   "cell_type": "markdown",
   "metadata": {},
   "source": [
    "## 6. \n",
    "\n",
    "Compare the performance, in terms of MSE, of the best models in parts 3. and 5. Which model would you choose and why? What alternative model could have been used?"
   ]
  },
  {
   "cell_type": "markdown",
   "metadata": {},
   "source": [
    "Considering the performance from the models generated in 3 and 5 we can say that ridge regression is a better model for this dataset as the train and test errors are lower as compared to lasso regression. \n",
    "We could use Elastic nets which are a combination of both, Ridge and Lasso regression models. Partial Least Squares regression or Continuum regression as an alternate models to the ridge regression model.\n",
    "\n",
    "Reference: https://www.researchgate.net/post/Is-there-any-alternative-to-the-ridge-regression-method"
   ]
  },
  {
   "cell_type": "markdown",
   "metadata": {},
   "source": []
  }
 ],
 "metadata": {
  "kernelspec": {
   "display_name": "Python 3",
   "language": "python",
   "name": "python3"
  },
  "language_info": {
   "codemirror_mode": {
    "name": "ipython",
    "version": 3
   },
   "file_extension": ".py",
   "mimetype": "text/x-python",
   "name": "python",
   "nbconvert_exporter": "python",
   "pygments_lexer": "ipython3",
   "version": "3.8.5"
  }
 },
 "nbformat": 4,
 "nbformat_minor": 5
}
